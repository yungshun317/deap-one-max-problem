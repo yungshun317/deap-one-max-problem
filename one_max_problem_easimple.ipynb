{
 "cells": [
  {
   "cell_type": "code",
   "execution_count": 1,
   "id": "ce4a74f8",
   "metadata": {},
   "outputs": [],
   "source": [
    "from deap import base, creator, tools, algorithms\n",
    "\n",
    "import random\n",
    "\n",
    "import numpy\n",
    "import matplotlib.pyplot as plt\n",
    "import seaborn as sns"
   ]
  },
  {
   "cell_type": "code",
   "execution_count": 2,
   "id": "782ce7de",
   "metadata": {},
   "outputs": [],
   "source": [
    "# Problem constants\n",
    "# Length of bit string to be optimized\n",
    "ONE_MAX_LENGTH = 100"
   ]
  },
  {
   "cell_type": "code",
   "execution_count": 3,
   "id": "88d516c6",
   "metadata": {},
   "outputs": [],
   "source": [
    "# Genetic Algorithm constants\n",
    "POPULATION_SIZE = 200\n",
    "# Probability for crossover\n",
    "P_CROSSOVER = 0.9\n",
    "# Probability for mutating an individual\n",
    "P_MUTATION = 0.1\n",
    "MAX_GENERATIONS = 50"
   ]
  },
  {
   "cell_type": "code",
   "execution_count": 4,
   "id": "45903bca",
   "metadata": {},
   "outputs": [],
   "source": [
    "# Set the random seed\n",
    "RANDOM_SEED = 42\n",
    "random.seed(RANDOM_SEED)"
   ]
  },
  {
   "cell_type": "code",
   "execution_count": 5,
   "id": "20ac6770",
   "metadata": {},
   "outputs": [],
   "source": [
    "toolbox = base.Toolbox()\n",
    "# Create an operator that randomly returns 0 or 1\n",
    "toolbox.register(\"zeroOrOne\", random.randint, 0, 1)"
   ]
  },
  {
   "cell_type": "code",
   "execution_count": 6,
   "id": "54a2156f",
   "metadata": {},
   "outputs": [],
   "source": [
    "# Define the fitness strategy by extending the `base.Fitness` class\n",
    "creator.create(\"FitnessMax\", base.Fitness, weights=(1.0,))"
   ]
  },
  {
   "cell_type": "code",
   "execution_count": 7,
   "id": "e34fc87f",
   "metadata": {},
   "outputs": [],
   "source": [
    "# Create the `Individual` class based on `list`\n",
    "creator.create(\"Individual\", list, fitness=creator.FitnessMax)"
   ]
  },
  {
   "cell_type": "code",
   "execution_count": 8,
   "id": "1bd04c45",
   "metadata": {},
   "outputs": [],
   "source": [
    "# Create the `individualCreator` operator to fill up an `Individual` instance\n",
    "toolbox.register(\"individualCreator\", tools.initRepeat, creator.Individual, toolbox.zeroOrOne, ONE_MAX_LENGTH)"
   ]
  },
  {
   "cell_type": "code",
   "execution_count": 9,
   "id": "6ea86704",
   "metadata": {},
   "outputs": [],
   "source": [
    "# Create the population operator to generate a list of individuals\n",
    "toolbox.register(\"populationCreator\", tools.initRepeat, list, toolbox.individualCreator)"
   ]
  },
  {
   "cell_type": "code",
   "execution_count": 10,
   "id": "075492a6",
   "metadata": {},
   "outputs": [],
   "source": [
    "# Fitness Calculation\n",
    "# Compute the number of `1`s in the individual\n",
    "def oneMaxFitness(individual):\n",
    "    # Return a Tuple\n",
    "    return sum(individual),\n",
    "\n",
    "toolbox.register(\"evaluate\", oneMaxFitness)"
   ]
  },
  {
   "cell_type": "code",
   "execution_count": 11,
   "id": "97bb8291",
   "metadata": {},
   "outputs": [],
   "source": [
    "# Genetic Operators\n",
    "# Tournament selection with tournament size of `3`\n",
    "toolbox.register(\"select\", tools.selTournament, tournsize=3)"
   ]
  },
  {
   "cell_type": "code",
   "execution_count": 12,
   "id": "3a8e8a79",
   "metadata": {},
   "outputs": [],
   "source": [
    "# Single point crossover\n",
    "toolbox.register(\"mate\", tools.cxOnePoint)"
   ]
  },
  {
   "cell_type": "code",
   "execution_count": 13,
   "id": "877457f2",
   "metadata": {},
   "outputs": [],
   "source": [
    "# Flip-bit mutation\n",
    "# `indpb`: Independent probability for each attribute to be flipped\n",
    "toolbox.register(\"mutate\", tools.mutFlipBit, indpb=1.0/ONE_MAX_LENGTH)"
   ]
  },
  {
   "cell_type": "code",
   "execution_count": 14,
   "id": "e4dd24e2",
   "metadata": {},
   "outputs": [],
   "source": [
    "# Genetic algorithm flow\n",
    "def main():\n",
    "    \n",
    "    # Create initial population (generation 0)\n",
    "    population = toolbox.populationCreator(n=POPULATION_SIZE)\n",
    "    \n",
    "    # Prepare the statistics object\n",
    "    stats = tools.Statistics(lambda ind: ind.fitness.values)\n",
    "    stats.register(\"max\", numpy.max)\n",
    "    stats.register(\"avg\", numpy.mean)\n",
    "    \n",
    "    # Perform the genetic algorithm flow\n",
    "    population, logbook = algorithms.eaSimple(population, \n",
    "                                              toolbox, \n",
    "                                              cxpb=P_CROSSOVER, \n",
    "                                              mutpb=P_MUTATION, \n",
    "                                              ngen=MAX_GENERATIONS, \n",
    "                                              stats=stats, \n",
    "                                              verbose=True)\n",
    "    \n",
    "    # Genetic algorithm is done. Extract statistics\n",
    "    maxFitnessValues, meanFitnessValues = logbook.select(\"max\", \"avg\")\n",
    "    \n",
    "    # Plot statistics\n",
    "    sns.set_style(\"whitegrid\")\n",
    "    plt.plot(maxFitnessValues, color='red')\n",
    "    plt.plot(meanFitnessValues, color='green')\n",
    "    plt.xlabel('Generation')\n",
    "    plt.ylabel('Max / Average Fitness')\n",
    "    plt.title('Max and Average Fitness over Generations')\n",
    "    plt.show()"
   ]
  },
  {
   "cell_type": "code",
   "execution_count": 15,
   "id": "bf8a6114",
   "metadata": {},
   "outputs": [
    {
     "name": "stdout",
     "output_type": "stream",
     "text": [
      "gen\tnevals\tmax\tavg   \n",
      "0  \t200   \t61 \t49.695\n",
      "1  \t193   \t65 \t53.575\n",
      "2  \t179   \t66 \t56.855\n",
      "3  \t187   \t69 \t59.42 \n",
      "4  \t184   \t70 \t62.03 \n",
      "5  \t188   \t75 \t64.715\n",
      "6  \t176   \t75 \t67.515\n",
      "7  \t184   \t77 \t70.215\n",
      "8  \t180   \t81 \t72.475\n",
      "9  \t174   \t82 \t74.79 \n",
      "10 \t172   \t85 \t76.685\n",
      "11 \t177   \t85 \t78.46 \n",
      "12 \t178   \t87 \t80.265\n",
      "13 \t178   \t87 \t81.8  \n",
      "14 \t184   \t87 \t83.15 \n",
      "15 \t181   \t89 \t84.4  \n",
      "16 \t185   \t89 \t85.59 \n",
      "17 \t174   \t90 \t86.755\n",
      "18 \t186   \t91 \t87.715\n",
      "19 \t184   \t92 \t88.495\n",
      "20 \t178   \t92 \t89.275\n",
      "21 \t176   \t93 \t90.04 \n",
      "22 \t185   \t94 \t90.865\n",
      "23 \t180   \t94 \t91.645\n",
      "24 \t177   \t95 \t92.69 \n",
      "25 \t191   \t95 \t93.325\n",
      "26 \t169   \t95 \t93.935\n",
      "27 \t184   \t96 \t94.39 \n",
      "28 \t184   \t96 \t94.84 \n",
      "29 \t179   \t96 \t95.07 \n",
      "30 \t183   \t97 \t95.325\n",
      "31 \t180   \t97 \t95.69 \n",
      "32 \t189   \t97 \t95.93 \n",
      "33 \t177   \t97 \t96.085\n",
      "34 \t188   \t98 \t96.325\n",
      "35 \t169   \t98 \t96.835\n",
      "36 \t182   \t98 \t97.18 \n",
      "37 \t183   \t99 \t97.655\n",
      "38 \t182   \t99 \t97.91 \n",
      "39 \t192   \t99 \t98.04 \n",
      "40 \t173   \t100\t98.29 \n",
      "41 \t182   \t100\t98.55 \n",
      "42 \t176   \t100\t98.915\n",
      "43 \t188   \t100\t99.195\n",
      "44 \t192   \t100\t99.595\n",
      "45 \t193   \t100\t99.82 \n",
      "46 \t189   \t100\t99.82 \n",
      "47 \t189   \t100\t99.895\n",
      "48 \t190   \t100\t99.875\n",
      "49 \t187   \t100\t99.83 \n",
      "50 \t184   \t100\t99.89 \n"
     ]
    },
    {
     "data": {
      "image/png": "[encoded data removed]",
      "text/plain": [
       "<Figure size 640x480 with 1 Axes>"
      ]
     },
     "metadata": {},
     "output_type": "display_data"
    }
   ],
   "source": [
    "if __name__ == \"__main__\":\n",
    "    main()"
   ]
  }
 ],
 "metadata": {
  "kernelspec": {
   "display_name": "Python 3 (ipykernel)",
   "language": "python",
   "name": "python3"
  },
  "language_info": {
   "codemirror_mode": {
    "name": "ipython",
    "version": 3
   },
   "file_extension": ".py",
   "mimetype": "text/x-python",
   "name": "python",
   "nbconvert_exporter": "python",
   "pygments_lexer": "ipython3",
   "version": "3.8.8"
  }
 },
 "nbformat": 4,
 "nbformat_minor": 5
}
